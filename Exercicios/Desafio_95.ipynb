{
 "cells": [
  {
   "cell_type": "markdown",
   "metadata": {},
   "source": [
    "# Desafio 95\n",
    "Aprimore o Desafio 93 para que ele funcione com vários jogadores, incluindo um sistema de visualização de detalhes de aproveitamento de cada jogador.\n",
    "\n",
    "**O programa deve permitir:**\n",
    "\n",
    "* Cadastrar o nome de vários jogadores.\n",
    "* Registrar o número de partidas jogadas por cada jogador.\n",
    "* Registrar a quantidade de gols feitos em cada partida.\n",
    "* Essas informações devem ser armazenadas em uma lista de dicionários, onde cada dicionário representa um jogador.\n",
    "\n",
    "**Ao final, o programa deve mostrar:**\n",
    "\n",
    "* Um resumo geral do aproveitamento de todos os jogadores.\n",
    "* Os detalhes de um jogador específico, que o usuário pode selecionar digitando o índice correspondente."
   ]
  },
  {
   "cell_type": "code",
   "execution_count": 2,
   "metadata": {},
   "outputs": [],
   "source": [
    "jogador: dict = {}\n",
    "lista_gols: list = []\n",
    "lista_jogadores: list = []\n",
    "opcao: str = ''\n",
    "\n",
    "while opcao != 'n':\n",
    "    nome: str = input(\"Nome do jogador: \")\n",
    "    total_partidas: int = int(input(\"Total de partidas jogadas: \"))\n",
    "    for i in range(total_partidas):\n",
    "        gols: int = int(input(f\"Gols partida {i+1}: \"))\n",
    "        lista_gols.append(gols)\n",
    "\n",
    "    jogador['nome'] = nome\n",
    "    jogador['partidas totais'] = total_partidas\n",
    "    jogador['gols partidas'] = lista_gols.copy()\n",
    "    jogador['gols totais'] = sum(lista_gols)\n",
    "    lista_gols.clear()\n",
    "    lista_jogadores.append(jogador.copy())\n",
    "\n",
    "    opcao = input(\"Deseja informar outro jogador? [n]ão\\n-> \")"
   ]
  },
  {
   "cell_type": "code",
   "execution_count": 45,
   "metadata": {},
   "outputs": [
    {
     "name": "stdout",
     "output_type": "stream",
     "text": [
      "==========================================================================\n",
      "Índice Nome            Partidas   Gols p/ Partida           Gols Totais \n",
      "--------------------------------------------------------------------------\n",
      "0      Messi           3          [1, 2, 3]                 6           \n",
      "1      Neymar          3          [30, 50, 50]              130         \n",
      "2      Payet           3          [0, 0, 1]                 1           \n",
      "--------------------------------------------------------------------------\n",
      "==========================================================================\n"
     ]
    }
   ],
   "source": [
    "print(\"=\" * 74)\n",
    "print(f\"{'Índice':<6} {'Nome':<15} {'Partidas':<10} {'Gols p/ Partida':<25} {'Gols Totais':<12}\")\n",
    "print(\"-\" * 74)\n",
    "for indice, atleta in enumerate(lista_jogadores):\n",
    "    print(f\"{indice:<6} {atleta['nome']:<15} {atleta['partidas totais']:<10} {str(atleta['gols partidas']):<25} {atleta['gols totais']:<12}\")\n",
    "print(\"-\" * 74)\n",
    "print(\"=\" * 74)"
   ]
  },
  {
   "cell_type": "code",
   "execution_count": 50,
   "metadata": {},
   "outputs": [
    {
     "name": "stdout",
     "output_type": "stream",
     "text": [
      ">> DADOS DE Messi<< \n",
      "--------------------------------------------------------------------------\n",
      "1 gols no jogo 1\n",
      "2 gols no jogo 2\n",
      "3 gols no jogo 3\n",
      "==========================================================================\n",
      ">> DADOS DE Neymar<< \n",
      "--------------------------------------------------------------------------\n",
      "30 gols no jogo 1\n",
      "50 gols no jogo 2\n",
      "50 gols no jogo 3\n",
      "==========================================================================\n",
      ">> DADOS DE Payet<< \n",
      "--------------------------------------------------------------------------\n",
      "1 gols no jogo 3\n",
      "==========================================================================\n"
     ]
    }
   ],
   "source": [
    "opcao = int(input(\"Informe o indice do jogador que deseja ver as informações (999 para sair): \"))\n",
    "while opcao != 999:\n",
    "    print(f\">> DADOS DE {lista_jogadores[opcao]['nome']}<< \")\n",
    "    print(\"-\" * 74)\n",
    "\n",
    "    for i in range(len(lista_jogadores[opcao]['gols partidas'])):\n",
    "        if lista_jogadores[opcao]['gols partidas'][i] != 0:\n",
    "            print(f\"{lista_jogadores[opcao]['gols partidas'][i]} gols no jogo {i+1}\")\n",
    "\n",
    "    print(\"=\" * 74)\n",
    "    opcao = int(input(\"Informe o indice do jogador que deseja ver as informações (999 para sair): \"))"
   ]
  }
 ],
 "metadata": {
  "kernelspec": {
   "display_name": "Python 3",
   "language": "python",
   "name": "python3"
  },
  "language_info": {
   "codemirror_mode": {
    "name": "ipython",
    "version": 3
   },
   "file_extension": ".py",
   "mimetype": "text/x-python",
   "name": "python",
   "nbconvert_exporter": "python",
   "pygments_lexer": "ipython3",
   "version": "3.12.8"
  }
 },
 "nbformat": 4,
 "nbformat_minor": 2
}
