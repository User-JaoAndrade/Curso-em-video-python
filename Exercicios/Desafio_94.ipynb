{
 "cells": [
  {
   "cell_type": "markdown",
   "metadata": {},
   "source": [
    "# Desafio 94 \n",
    "Crie um programa que leia nome, sexo e idade de várias pessoas, guardando os dados de cada pessoa em um dicionário e todos os dicionários em uma lista.\n",
    "No final, mostre:\n",
    "\n",
    "* Quantas pessoas foram cadastradas.\n",
    "* A média de idade do grupo.\n",
    "* Uma lista com todas as mulheres.\n",
    "* Uma lista com todas as pessoas com idade acima da média.\n",
    "* Nota: O programa deve garantir que o usuário digite apenas as opções válidas para o sexo (M ou F)."
   ]
  },
  {
   "cell_type": "code",
   "execution_count": 24,
   "metadata": {},
   "outputs": [],
   "source": [
    "dados_pessoa: dict = {}\n",
    "todas_as_pessoas: list = []\n",
    "nome: str = None\n",
    "sexo: str = ''\n",
    "idade: int = None\n",
    "opcao: str = ''"
   ]
  },
  {
   "cell_type": "code",
   "execution_count": null,
   "metadata": {},
   "outputs": [
    {
     "data": {
      "text/plain": [
       "'Maria'"
      ]
     },
     "execution_count": 25,
     "metadata": {},
     "output_type": "execute_result"
    }
   ],
   "source": [
    "while opcao.lower() != 's':\n",
    "    nome = input(\"Nome: \")\n",
    "    while sexo.upper() != 'M' and sexo.upper() != 'F':\n",
    "        sexo = input(f\"Sexo [M][F]: \").upper()\n",
    "    idade = int(input(\"Idade: \"))\n",
    "\n",
    "    dados_pessoa['nome'] = nome\n",
    "    dados_pessoa['sexo'] = sexo\n",
    "    dados_pessoa['idade'] = idade\n",
    "    sexo = ''\n",
    "\n",
    "    todas_as_pessoas.append(dados_pessoa.copy())\n",
    "\n",
    "    opcao = input(\"Deseja finalizar os cadastros? [S]im\\n-> \")"
   ]
  },
  {
   "cell_type": "code",
   "execution_count": 26,
   "metadata": {},
   "outputs": [],
   "source": [
    "total_cadastros: int = len(todas_as_pessoas)\n",
    "lista_mulheres: list = []\n",
    "lista_idade_acima_da_media: list = []\n",
    "soma_idades: int = 0\n",
    "\n",
    "for _, pessoa in enumerate(todas_as_pessoas):\n",
    "    soma_idades += pessoa['idade']\n",
    "    if pessoa['sexo'] == 'F':\n",
    "        lista_mulheres.append(pessoa['nome'])\n",
    "else:\n",
    "    media_idades: float = soma_idades / total_cadastros\n",
    "    for _, pessoa in enumerate(todas_as_pessoas):\n",
    "        if pessoa['idade'] > media_idades:\n",
    "            lista_idade_acima_da_media.append(pessoa)"
   ]
  },
  {
   "cell_type": "code",
   "execution_count": 27,
   "metadata": {},
   "outputs": [
    {
     "name": "stdout",
     "output_type": "stream",
     "text": [
      "Foram Cadastradas 3 pessoas\n",
      "A média de idade é de 17.0 anos\n",
      "Mulher(es) cadastrada(s): João Pedro \n",
      "Pessoas com idade acima da média\n",
      "João com 18 anos\n",
      "\n",
      "Acabou -Estrela Patrick\n"
     ]
    }
   ],
   "source": [
    "print(f\"Foram Cadastradas {total_cadastros} pessoas\")\n",
    "print(f\"A média de idade é de {media_idades} anos\")\n",
    "print(\"Mulher(es) cadastrada(s):\", *lista_mulheres, \"\\nPessoas com idade acima da média\")\n",
    "for _, pessoa in enumerate(lista_idade_acima_da_media):\n",
    "    print(f\"{pessoa['nome']} com {pessoa['idade']} anos\")\n",
    "print(\"\\nAcabou -Estrela Patrick\")"
   ]
  }
 ],
 "metadata": {
  "kernelspec": {
   "display_name": "Python 3",
   "language": "python",
   "name": "python3"
  },
  "language_info": {
   "codemirror_mode": {
    "name": "ipython",
    "version": 3
   },
   "file_extension": ".py",
   "mimetype": "text/x-python",
   "name": "python",
   "nbconvert_exporter": "python",
   "pygments_lexer": "ipython3",
   "version": "3.12.8"
  }
 },
 "nbformat": 4,
 "nbformat_minor": 2
}
