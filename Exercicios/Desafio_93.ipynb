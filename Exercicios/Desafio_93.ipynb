{
 "cells": [
  {
   "cell_type": "markdown",
   "metadata": {},
   "source": [
    "### Enunciado\n",
    "Crie um programa que leia o nome de um jogador, o número de partidas jogadas e o número de gols em cada partida.\n",
    "\n",
    "O programa deverá armazenar essas informações em um dicionário e mostrar:\n",
    "\n",
    "* O nome do jogador.\n",
    "* O total de gols feitos.\n",
    "* A quantidade de partidas em que o jogador fez gols.\n",
    "* Se o jogador não fez nenhum gol em alguma partida, o programa não deverá incluir essa partida na contagem.\n",
    "* O programa deve mostrar o total de gols e a quantidade de partidas com gols, com a respectiva quantidade."
   ]
  },
  {
   "cell_type": "code",
   "execution_count": 12,
   "metadata": {},
   "outputs": [],
   "source": [
    "jogador: dict = {}\n",
    "\n",
    "jogador['nome'] = input(\"Nome do jogador: \")\n",
    "jogador['total partidas'] = int(input(f\"Quantas partidas {jogador['nome']} jogou?\\n-> \"))"
   ]
  },
  {
   "cell_type": "code",
   "execution_count": 13,
   "metadata": {},
   "outputs": [],
   "source": [
    "total_gols: int = 0\n",
    "partidas_com_gols: list = []\n",
    "\n",
    "for i in range(jogador['total partidas']):\n",
    "    gols: int = int(input(f\"Quantos gols {jogador['nome']} fez na partida {i+1}: \"))\n",
    "    partidas_com_gols.append(gols)\n",
    "    total_gols += gols\n",
    "\n",
    "jogador['total gols'] = total_gols\n",
    "jogador['gols em partidas'] = partidas_com_gols.copy()\n",
    "partidas_com_gols.clear()"
   ]
  },
  {
   "cell_type": "code",
   "execution_count": 14,
   "metadata": {},
   "outputs": [
    {
     "name": "stdout",
     "output_type": "stream",
     "text": [
      "João fez 6 gols em 3 jogos\n",
      "4 gols na partida 1\n",
      "2 gols na partida 2\n"
     ]
    }
   ],
   "source": [
    "print(f\"{jogador['nome']} fez {jogador['total gols']} gols em {jogador['total partidas']} jogos\")\n",
    "\n",
    "for i in range(len(jogador['gols em partidas'])):\n",
    "    if jogador['gols em partidas'][i] != 0:\n",
    "        print(f\"{jogador['gols em partidas'][i]} gols na partida {i+1}\")"
   ]
  }
 ],
 "metadata": {
  "kernelspec": {
   "display_name": "Python 3",
   "language": "python",
   "name": "python3"
  },
  "language_info": {
   "codemirror_mode": {
    "name": "ipython",
    "version": 3
   },
   "file_extension": ".py",
   "mimetype": "text/x-python",
   "name": "python",
   "nbconvert_exporter": "python",
   "pygments_lexer": "ipython3",
   "version": "3.12.8"
  }
 },
 "nbformat": 4,
 "nbformat_minor": 2
}
