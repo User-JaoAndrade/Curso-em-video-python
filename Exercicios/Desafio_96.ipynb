{
 "cells": [
  {
   "cell_type": "markdown",
   "metadata": {},
   "source": [
    "# Desafio 96\n",
    "Faça um programa que tenha uma função chamada area(), que receba as dimensões de um terreno retangular\n",
    "(largura e comprimento) e mostre a área do terreno."
   ]
  },
  {
   "cell_type": "code",
   "execution_count": 1,
   "metadata": {},
   "outputs": [],
   "source": [
    "def area(larg, compr) -> int:\n",
    "    return larg * compr"
   ]
  },
  {
   "cell_type": "code",
   "execution_count": 2,
   "metadata": {},
   "outputs": [
    {
     "name": "stdout",
     "output_type": "stream",
     "text": [
      "A área do terreno é de 6\n"
     ]
    }
   ],
   "source": [
    "if __name__ == '__main__':\n",
    "    largura: int = int(input(\"Largura: \"))\n",
    "    comprimento: int = int(input(\"Comprimento: \"))\n",
    "\n",
    "    print(f\"A área do terreno é de {area(largura, comprimento)}\")\n"
   ]
  }
 ],
 "metadata": {
  "kernelspec": {
   "display_name": "Python 3",
   "language": "python",
   "name": "python3"
  },
  "language_info": {
   "codemirror_mode": {
    "name": "ipython",
    "version": 3
   },
   "file_extension": ".py",
   "mimetype": "text/x-python",
   "name": "python",
   "nbconvert_exporter": "python",
   "pygments_lexer": "ipython3",
   "version": "3.12.8"
  }
 },
 "nbformat": 4,
 "nbformat_minor": 2
}
