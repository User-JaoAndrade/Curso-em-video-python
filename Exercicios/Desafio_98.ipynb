{
 "cells": [
  {
   "cell_type": "markdown",
   "metadata": {},
   "source": [
    "# Desafio 98\n",
    "Faça um programa que tenha uma função chamada contador(), que receba três parâmetros: início, fim e passo, e realize a contagem.\n",
    "\n",
    "**Seu programa tem que realizar três contagens através da função criada:**\n",
    "* De 1 até 10, de 1 em 1.\n",
    "* De 10 até 0, de 2 em 2.\n",
    "* Uma contagem personalizada pelo usuário"
   ]
  },
  {
   "cell_type": "code",
   "execution_count": 29,
   "metadata": {},
   "outputs": [],
   "source": [
    "import time"
   ]
  },
  {
   "cell_type": "code",
   "execution_count": 30,
   "metadata": {},
   "outputs": [],
   "source": [
    "def contador(start: int, stop: int, step: int) -> None:\n",
    "    for i in range(start, stop, step):\n",
    "        time.sleep(0.2)\n",
    "        print(f'{i} ', end='')"
   ]
  },
  {
   "cell_type": "code",
   "execution_count": 31,
   "metadata": {},
   "outputs": [
    {
     "name": "stdout",
     "output_type": "stream",
     "text": [
      "Contando de 1 até 10\n",
      "1 2 3 4 5 6 7 8 9 10 "
     ]
    }
   ],
   "source": [
    "if __name__ == '__main__':\n",
    "    print(\"Contando de 1 até 10\")\n",
    "    contador(1, 11, 1)"
   ]
  },
  {
   "cell_type": "code",
   "execution_count": 32,
   "metadata": {},
   "outputs": [
    {
     "name": "stdout",
     "output_type": "stream",
     "text": [
      "Contando de 10 até 0 (2 em 2)\n",
      "10 8 6 4 2 0 "
     ]
    }
   ],
   "source": [
    "print(\"Contando de 10 até 0 (2 em 2)\")\n",
    "contador(10, -1, -2)"
   ]
  },
  {
   "cell_type": "code",
   "execution_count": 35,
   "metadata": {},
   "outputs": [
    {
     "name": "stdout",
     "output_type": "stream",
     "text": [
      "Escolha sua contagem\n",
      "20 18 16 14 12 10 8 6 4 2 0 "
     ]
    }
   ],
   "source": [
    "print(\"Escolha sua contagem\")\n",
    "start: int = int(input(\"Start: \"))\n",
    "stop: int = int(input(\"Stop: \"))\n",
    "step: int = int(input(\"Step: \"))\n",
    "\n",
    "if step > 0:\n",
    "    stop += 1\n",
    "else: \n",
    "    stop -= 1\n",
    "\n",
    "contador(start, stop, step)"
   ]
  }
 ],
 "metadata": {
  "kernelspec": {
   "display_name": "Python 3",
   "language": "python",
   "name": "python3"
  },
  "language_info": {
   "codemirror_mode": {
    "name": "ipython",
    "version": 3
   },
   "file_extension": ".py",
   "mimetype": "text/x-python",
   "name": "python",
   "nbconvert_exporter": "python",
   "pygments_lexer": "ipython3",
   "version": "3.12.8"
  }
 },
 "nbformat": 4,
 "nbformat_minor": 2
}
